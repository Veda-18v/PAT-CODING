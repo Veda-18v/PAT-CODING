{
  "nbformat": 4,
  "nbformat_minor": 0,
  "metadata": {
    "colab": {
      "provenance": [],
      "authorship_tag": "ABX9TyP03bSRjqGlW88HcTjUhJeD",
      "include_colab_link": true
    },
    "kernelspec": {
      "name": "python3",
      "display_name": "Python 3"
    },
    "language_info": {
      "name": "python"
    }
  },
  "cells": [
    {
      "cell_type": "markdown",
      "metadata": {
        "id": "view-in-github",
        "colab_type": "text"
      },
      "source": [
        "<a href=\"https://colab.research.google.com/github/Veda-18v/PAT-CODING/blob/main/python.ipynb\" target=\"_parent\"><img src=\"https://colab.research.google.com/assets/colab-badge.svg\" alt=\"Open In Colab\"/></a>"
      ]
    },
    {
      "cell_type": "code",
      "execution_count": null,
      "metadata": {
        "colab": {
          "base_uri": "https://localhost:8080/"
        },
        "id": "A4QXL2gt2xu9",
        "outputId": "b7269233-a509-4e1a-e661-99f0745ae48f"
      },
      "outputs": [
        {
          "output_type": "stream",
          "name": "stdout",
          "text": [
            "hello world\n"
          ]
        }
      ],
      "source": [
        "print(\"hello world\")"
      ]
    },
    {
      "cell_type": "markdown",
      "source": [
        "given two linked list of the same size the task is to create a new linked list using those linked list the condition is the among both linked list will be added to the new linked list\n",
        "input: list1= 5->2->3->8\n",
        "list2 = 1->7->4->5\n",
        "output: New list =5->7->4->8\n",
        "\n"
      ],
      "metadata": {
        "id": "jzj_WgqboM0D"
      }
    },
    {
      "cell_type": "code",
      "source": [
        "class Node:\n",
        "    def __init__(self, data):\n",
        "        self.data = data\n",
        "        self.next = None\n",
        "\n",
        "def add_linked_lists(list1, list2):\n",
        "    # Create a dummy node to point to the head of the new list\n",
        "    dummy = Node(0)\n",
        "    current = dummy\n",
        "\n",
        "    # Iterate through both lists simultaneously\n",
        "    while list1 and list2:\n",
        "        # Add the sum of the data values to the new list\n",
        "        current.next = Node(list1.data + list2.data)\n",
        "        current = current.next\n",
        "\n",
        "\n",
        "output: New list =5->7->4->8"
      ],
      "metadata": {
        "id": "PKidJ1khZzcq"
      },
      "execution_count": null,
      "outputs": []
    },
    {
      "cell_type": "code",
      "source": [
        "# prompt: implement a queue using 2 stacks\n",
        "\n",
        "class Queue:\n",
        "    def __init__(self):\n",
        "        self.s1 = []\n",
        "        self.s2 = []\n",
        "\n",
        "    def enQueue(self, x):\n",
        "        while len(self.s1) != 0:\n",
        "            self.s2.append(self.s1[-1])\n",
        "            self.s1.pop()\n",
        "        self.s1.append(x)\n",
        "        while len(self.s2) != 0:\n",
        "            self.s1.append(self.s2[-1])\n",
        "            self.s2.pop()\n",
        "\n",
        "    def deQueue(self):\n",
        "        if len(self.s1) == 0:\n",
        "            print(\"Q is Empty\")\n",
        "        x = self.s1[-1]\n",
        "        self.s1.pop()\n",
        "        return x\n"
      ],
      "metadata": {
        "id": "PaTw2aAD3avP"
      },
      "execution_count": null,
      "outputs": []
    }
  ]
}