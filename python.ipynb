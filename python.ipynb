{
  "nbformat": 4,
  "nbformat_minor": 0,
  "metadata": {
    "colab": {
      "provenance": [],
      "authorship_tag": "ABX9TyOGwfZ/9/EeFV6B6tqfy66X",
      "include_colab_link": true
    },
    "kernelspec": {
      "name": "python3",
      "display_name": "Python 3"
    },
    "language_info": {
      "name": "python"
    }
  },
  "cells": [
    {
      "cell_type": "markdown",
      "metadata": {
        "id": "view-in-github",
        "colab_type": "text"
      },
      "source": [
        "<a href=\"https://colab.research.google.com/github/Veda-18v/PAT-CODING/blob/main/python.ipynb\" target=\"_parent\"><img src=\"https://colab.research.google.com/assets/colab-badge.svg\" alt=\"Open In Colab\"/></a>"
      ]
    },
    {
      "cell_type": "code",
      "execution_count": 1,
      "metadata": {
        "colab": {
          "base_uri": "https://localhost:8080/"
        },
        "id": "A4QXL2gt2xu9",
        "outputId": "b7269233-a509-4e1a-e661-99f0745ae48f"
      },
      "outputs": [
        {
          "output_type": "stream",
          "name": "stdout",
          "text": [
            "hello world\n"
          ]
        }
      ],
      "source": [
        "print(\"hello world\")"
      ]
    },
    {
      "cell_type": "code",
      "source": [
        "# prompt: implement a queue using 2 stacks\n",
        "\n",
        "class Queue:\n",
        "    def __init__(self):\n",
        "        self.s1 = []\n",
        "        self.s2 = []\n",
        "\n",
        "    def enQueue(self, x):\n",
        "        while len(self.s1) != 0:\n",
        "            self.s2.append(self.s1[-1])\n",
        "            self.s1.pop()\n",
        "        self.s1.append(x)\n",
        "        while len(self.s2) != 0:\n",
        "            self.s1.append(self.s2[-1])\n",
        "            self.s2.pop()\n",
        "\n",
        "    def deQueue(self):\n",
        "        if len(self.s1) == 0:\n",
        "            print(\"Q is Empty\")\n",
        "        x = self.s1[-1]\n",
        "        self.s1.pop()\n",
        "        return x\n"
      ],
      "metadata": {
        "id": "PaTw2aAD3avP"
      },
      "execution_count": 3,
      "outputs": []
    }
  ]
}